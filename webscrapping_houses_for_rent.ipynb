{
 "cells": [
  {
   "cell_type": "code",
   "execution_count": 1,
   "id": "af702c84",
   "metadata": {},
   "outputs": [],
   "source": [
    "from bs4 import BeautifulSoup\n",
    "import requests\n",
    "from csv import writer"
   ]
  },
  {
   "cell_type": "code",
   "execution_count": 17,
   "id": "3a75ae82",
   "metadata": {},
   "outputs": [],
   "source": [
    "import requests\n",
    "from bs4 import BeautifulSoup\n",
    "import csv\n",
    "\n",
    "url = \"https://www.encuentra24.com/guatemala-es/bienes-raices-alquiler-apartamentos\"\n",
    "page_number = 1\n",
    "\n",
    "while True:\n",
    "    # Make a request to the current page URL\n",
    "    page = requests.get(url + f\".{page_number}\")\n",
    "    soup = BeautifulSoup(page.content, 'html.parser')\n",
    "    lists = soup.find_all('div', class_=\"ann-ad-tile\")\n",
    "\n",
    "    if not lists:\n",
    "        break\n",
    "\n",
    "    with open('houses_for_rent.csv', 'a', encoding='utf8', newline='') as f:\n",
    "        thewriter = csv.writer(f)\n",
    "        # Scrape data from the current page\n",
    "        for list in lists:\n",
    "            title = list.find('a', class_=\"ann-ad-tile__title\")\n",
    "            if title is not None:\n",
    "                title = title.text.replace('\\n', '')\n",
    "            else:\n",
    "                title = ''\n",
    "            location = list.find('div', class_=\"ann-ad-tile__footer-item\")\n",
    "            if location is not None:\n",
    "                location = location.text.replace('\\n', '')\n",
    "            else:\n",
    "                location = ''\n",
    "            price = list.find('div', class_=\"ann-ad-tile__price\")\n",
    "            if price is not None:\n",
    "                price = price.text.replace('\\n', '')\n",
    "            else:\n",
    "                price = ''\n",
    "            description = list.find('div', class_=\"ann-ad-tile__short-description\")\n",
    "            if description is not None:\n",
    "                description = description.text.replace('\\n', '')\n",
    "            else:\n",
    "                description = ''\n",
    "\n",
    "            info = [title, location, price, description]\n",
    "            thewriter.writerow(info)\n",
    "    # Move to the next page or exit the loop if there are no more pages\n",
    "    page_number += 1"
   ]
  }
 ],
 "metadata": {
  "kernelspec": {
   "display_name": "Python 3 (ipykernel)",
   "language": "python",
   "name": "python3"
  },
  "language_info": {
   "codemirror_mode": {
    "name": "ipython",
    "version": 3
   },
   "file_extension": ".py",
   "mimetype": "text/x-python",
   "name": "python",
   "nbconvert_exporter": "python",
   "pygments_lexer": "ipython3",
   "version": "3.9.12"
  }
 },
 "nbformat": 4,
 "nbformat_minor": 5
}
